{
  "nbformat": 4,
  "nbformat_minor": 0,
  "metadata": {
    "colab": {
      "name": "Copy of Lab 7: Feature Engineering - Creating Synthetic Features.ipynb",
      "version": "0.3.2",
      "provenance": [],
      "collapsed_sections": [
        "JndnmDMp66FL"
      ]
    }
  },
  "cells": [
    {
      "metadata": {
        "colab_type": "text",
        "id": "JndnmDMp66FL"
      },
      "cell_type": "markdown",
      "source": [
        "#### Copyright 2017 Google LLC."
      ]
    },
    {
      "metadata": {
        "cellView": "both",
        "colab_type": "code",
        "id": "hMqWDc_m6rUC",
        "colab": {}
      },
      "cell_type": "code",
      "source": [
        "# Licensed under the Apache License, Version 2.0 (the \"License\");\n",
        "# you may not use this file except in compliance with the License.\n",
        "# You may obtain a copy of the License at\n",
        "#\n",
        "# https://www.apache.org/licenses/LICENSE-2.0\n",
        "#\n",
        "# Unless required by applicable law or agreed to in writing, software\n",
        "# distributed under the License is distributed on an \"AS IS\" BASIS,\n",
        "# WITHOUT WARRANTIES OR CONDITIONS OF ANY KIND, either express or implied.\n",
        "# See the License for the specific language governing permissions and\n",
        "# limitations under the License."
      ],
      "execution_count": 0,
      "outputs": []
    },
    {
      "metadata": {
        "colab_type": "text",
        "id": "4f3CKqFUqL2-",
        "slideshow": {
          "slide_type": "slide"
        }
      },
      "cell_type": "markdown",
      "source": [
        "# Lab 7: Feature Engineering - Creating Synthetic Features\n",
        "**Learning Objectives:**\n",
        "  * Gain more experience with the `LinearRegressor` class in TensorFlow by using it to predict median housing price, at the granularity of city blocks\n",
        "  * Use a validation data set and test set to make sure that our model will generalize and is not overfitting the training data.\n",
        "  * Use test data only after tuning hyperparameters as a measure of how the model will generalize to new data\n",
        "  * Create synthetic features from the existing features (e.g., taking a ratio of two other features)\n",
        "  * More practice with feature transformations including identifying and clipping (removing) outliers out of the input data to obtain the best model\n"
      ]
    },
    {
      "metadata": {
        "colab_type": "text",
        "id": "UHU_WK5Z2gsw"
      },
      "cell_type": "markdown",
      "source": [
        "### Standard Set-up\n",
        "\n",
        "We begin with the same set-up as in the last lab."
      ]
    },
    {
      "metadata": {
        "cellView": "both",
        "colab_type": "code",
        "id": "P5_-Nmc52gsy",
        "slideshow": {
          "slide_type": "-"
        },
        "colab": {
          "test": {
            "output": "ignore",
            "timeout": 600
          }
        }
      },
      "cell_type": "code",
      "source": [
        "import math\n",
        "\n",
        "from IPython import display\n",
        "from matplotlib import cm\n",
        "from matplotlib import gridspec\n",
        "from matplotlib import pyplot as plt\n",
        "import numpy as np\n",
        "import pandas as pd\n",
        "from mpl_toolkits.mplot3d import Axes3D\n",
        "from sklearn import metrics\n",
        "import tensorflow as tf\n",
        "from tensorflow.contrib.learn.python.learn import learn_io, estimator\n",
        "\n",
        "# This line increases the amount of logging when there is an error. You can\n",
        "# remove it if you want less logging.\n",
        "tf.logging.set_verbosity(tf.logging.ERROR)\n",
        "\n",
        "# Set the output display to have two digits for decimal places, for display\n",
        "# readability only and limit it to printing 15 rows.\n",
        "pd.options.display.float_format = '{:.2f}'.format\n",
        "pd.options.display.max_rows = 15\n"
      ],
      "execution_count": 0,
      "outputs": []
    },
    {
      "metadata": {
        "colab_type": "text",
        "id": "RG4WjoRq7we3"
      },
      "cell_type": "markdown",
      "source": [
        "Read the data and randomize the order."
      ]
    },
    {
      "metadata": {
        "colab_type": "code",
        "id": "WrtTmerb7wOT",
        "outputId": "244210d8-d63e-41f6-ed5f-a9421c9e33ff",
        "colab": {
          "base_uri": "https://localhost:8080/",
          "height": 317
        }
      },
      "cell_type": "code",
      "source": [
        "california_housing_dataframe = pd.read_csv(\"https://storage.googleapis.com/ml_universities/california_housing_train.csv\", sep=\",\")\n",
        "\n",
        "california_housing_dataframe = california_housing_dataframe.reindex(\n",
        "    np.random.permutation(california_housing_dataframe.index))\n",
        "\n",
        "california_housing_dataframe.describe()"
      ],
      "execution_count": 0,
      "outputs": [
        {
          "output_type": "execute_result",
          "data": {
            "text/html": [
              "<div>\n",
              "<style scoped>\n",
              "    .dataframe tbody tr th:only-of-type {\n",
              "        vertical-align: middle;\n",
              "    }\n",
              "\n",
              "    .dataframe tbody tr th {\n",
              "        vertical-align: top;\n",
              "    }\n",
              "\n",
              "    .dataframe thead th {\n",
              "        text-align: right;\n",
              "    }\n",
              "</style>\n",
              "<table border=\"1\" class=\"dataframe\">\n",
              "  <thead>\n",
              "    <tr style=\"text-align: right;\">\n",
              "      <th></th>\n",
              "      <th>longitude</th>\n",
              "      <th>latitude</th>\n",
              "      <th>housing_median_age</th>\n",
              "      <th>total_rooms</th>\n",
              "      <th>total_bedrooms</th>\n",
              "      <th>population</th>\n",
              "      <th>households</th>\n",
              "      <th>median_income</th>\n",
              "      <th>median_house_value</th>\n",
              "    </tr>\n",
              "  </thead>\n",
              "  <tbody>\n",
              "    <tr>\n",
              "      <th>count</th>\n",
              "      <td>17000.00</td>\n",
              "      <td>17000.00</td>\n",
              "      <td>17000.00</td>\n",
              "      <td>17000.00</td>\n",
              "      <td>17000.00</td>\n",
              "      <td>17000.00</td>\n",
              "      <td>17000.00</td>\n",
              "      <td>17000.00</td>\n",
              "      <td>17000.00</td>\n",
              "    </tr>\n",
              "    <tr>\n",
              "      <th>mean</th>\n",
              "      <td>-119.56</td>\n",
              "      <td>35.63</td>\n",
              "      <td>28.59</td>\n",
              "      <td>2643.66</td>\n",
              "      <td>539.41</td>\n",
              "      <td>1429.57</td>\n",
              "      <td>501.22</td>\n",
              "      <td>3.88</td>\n",
              "      <td>207300.91</td>\n",
              "    </tr>\n",
              "    <tr>\n",
              "      <th>std</th>\n",
              "      <td>2.01</td>\n",
              "      <td>2.14</td>\n",
              "      <td>12.59</td>\n",
              "      <td>2179.95</td>\n",
              "      <td>421.50</td>\n",
              "      <td>1147.85</td>\n",
              "      <td>384.52</td>\n",
              "      <td>1.91</td>\n",
              "      <td>115983.76</td>\n",
              "    </tr>\n",
              "    <tr>\n",
              "      <th>min</th>\n",
              "      <td>-124.35</td>\n",
              "      <td>32.54</td>\n",
              "      <td>1.00</td>\n",
              "      <td>2.00</td>\n",
              "      <td>1.00</td>\n",
              "      <td>3.00</td>\n",
              "      <td>1.00</td>\n",
              "      <td>0.50</td>\n",
              "      <td>14999.00</td>\n",
              "    </tr>\n",
              "    <tr>\n",
              "      <th>25%</th>\n",
              "      <td>-121.79</td>\n",
              "      <td>33.93</td>\n",
              "      <td>18.00</td>\n",
              "      <td>1462.00</td>\n",
              "      <td>297.00</td>\n",
              "      <td>790.00</td>\n",
              "      <td>282.00</td>\n",
              "      <td>2.57</td>\n",
              "      <td>119400.00</td>\n",
              "    </tr>\n",
              "    <tr>\n",
              "      <th>50%</th>\n",
              "      <td>-118.49</td>\n",
              "      <td>34.25</td>\n",
              "      <td>29.00</td>\n",
              "      <td>2127.00</td>\n",
              "      <td>434.00</td>\n",
              "      <td>1167.00</td>\n",
              "      <td>409.00</td>\n",
              "      <td>3.54</td>\n",
              "      <td>180400.00</td>\n",
              "    </tr>\n",
              "    <tr>\n",
              "      <th>75%</th>\n",
              "      <td>-118.00</td>\n",
              "      <td>37.72</td>\n",
              "      <td>37.00</td>\n",
              "      <td>3151.25</td>\n",
              "      <td>648.25</td>\n",
              "      <td>1721.00</td>\n",
              "      <td>605.25</td>\n",
              "      <td>4.77</td>\n",
              "      <td>265000.00</td>\n",
              "    </tr>\n",
              "    <tr>\n",
              "      <th>max</th>\n",
              "      <td>-114.31</td>\n",
              "      <td>41.95</td>\n",
              "      <td>52.00</td>\n",
              "      <td>37937.00</td>\n",
              "      <td>6445.00</td>\n",
              "      <td>35682.00</td>\n",
              "      <td>6082.00</td>\n",
              "      <td>15.00</td>\n",
              "      <td>500001.00</td>\n",
              "    </tr>\n",
              "  </tbody>\n",
              "</table>\n",
              "</div>"
            ],
            "text/plain": [
              "       longitude  latitude  housing_median_age  total_rooms  total_bedrooms  \\\n",
              "count   17000.00  17000.00            17000.00     17000.00        17000.00   \n",
              "mean     -119.56     35.63               28.59      2643.66          539.41   \n",
              "std         2.01      2.14               12.59      2179.95          421.50   \n",
              "min      -124.35     32.54                1.00         2.00            1.00   \n",
              "25%      -121.79     33.93               18.00      1462.00          297.00   \n",
              "50%      -118.49     34.25               29.00      2127.00          434.00   \n",
              "75%      -118.00     37.72               37.00      3151.25          648.25   \n",
              "max      -114.31     41.95               52.00     37937.00         6445.00   \n",
              "\n",
              "       population  households  median_income  median_house_value  \n",
              "count    17000.00    17000.00       17000.00            17000.00  \n",
              "mean      1429.57      501.22           3.88           207300.91  \n",
              "std       1147.85      384.52           1.91           115983.76  \n",
              "min          3.00        1.00           0.50            14999.00  \n",
              "25%        790.00      282.00           2.57           119400.00  \n",
              "50%       1167.00      409.00           3.54           180400.00  \n",
              "75%       1721.00      605.25           4.77           265000.00  \n",
              "max      35682.00     6082.00          15.00           500001.00  "
            ]
          },
          "metadata": {
            "tags": []
          },
          "execution_count": 2
        }
      ]
    },
    {
      "metadata": {
        "colab_type": "text",
        "id": "K83U9tm72yF7"
      },
      "cell_type": "markdown",
      "source": [
        "##Prepare Features\n",
        "\n",
        "As our learning models get more sophisticated we will want to do some computation on the features and even generate new features from the existing features. You will change this later in the lab. For now this method will just make a copy of the portion of the dataframe we plan to use, and re-scale the median-house value (to make it a bit easier to work with)."
      ]
    },
    {
      "metadata": {
        "colab_type": "code",
        "id": "JETiyZLS2gtY",
        "colab": {}
      },
      "cell_type": "code",
      "source": [
        "def prepare_features(dataframe):\n",
        "  \"\"\"Prepares the features for provided dataset.\n",
        "\n",
        "  Args:\n",
        "    dataframe: A Pandas DataFrame expected to contain data from the\n",
        "      desired data set.\n",
        "  Returns:\n",
        "    A new dataFrame that contains the features to be used for the model.\n",
        "  \"\"\"\n",
        "  processed_features = dataframe.copy()\n",
        "  \n",
        "  # Modifying median_house_value to be in scale of $1000.  So a value of 14.0\n",
        "  # will correspond to $14,000.  This will make it a bit easier to work with.\n",
        "  processed_features[\"median_house_value\"] /= 1000.0\n",
        "  \n",
        "  return processed_features"
      ],
      "execution_count": 0,
      "outputs": []
    },
    {
      "metadata": {
        "colab_type": "text",
        "id": "O4tSQbQmGo7m"
      },
      "cell_type": "markdown",
      "source": [
        "###Divide the provided data for training our model into a training and validation set\n",
        "\n",
        "As in the last lab we use the first 14000 examples (after randomization) for the ***training set*** and the remaining 3000 examples for the ***validation set***."
      ]
    },
    {
      "metadata": {
        "colab_type": "code",
        "id": "pr9J6wVUGoQX",
        "colab": {}
      },
      "cell_type": "code",
      "source": [
        "training_examples = prepare_features(california_housing_dataframe.head(14000))\n",
        "validation_examples = prepare_features(california_housing_dataframe.tail(3000))"
      ],
      "execution_count": 0,
      "outputs": []
    },
    {
      "metadata": {
        "colab_type": "text",
        "id": "27I6NhglBnUB"
      },
      "cell_type": "markdown",
      "source": [
        "### Load the Test Data\n",
        "\n",
        "As in the last lab we load the test data from [here](https://storage.googleapis.com/ml_universities/california_housing_test.csv)."
      ]
    },
    {
      "metadata": {
        "colab_type": "code",
        "id": "XK2--38hBnl3",
        "colab": {}
      },
      "cell_type": "code",
      "source": [
        "california_housing_test_data = pd.read_csv(\n",
        "    \"https://storage.googleapis.com/ml_universities/california_housing_test.csv\",\n",
        "    sep=\",\")\n",
        "\n",
        "test_examples = prepare_features(california_housing_test_data)"
      ],
      "execution_count": 0,
      "outputs": []
    },
    {
      "metadata": {
        "colab_type": "text",
        "id": "G2F3zbi2CjM7"
      },
      "cell_type": "markdown",
      "source": [
        "### Compute Loss\n",
        "\n",
        "Here is a simple method to compute the loss on the given input function and targets."
      ]
    },
    {
      "metadata": {
        "colab_type": "code",
        "id": "sPHDJH0JCiWP",
        "colab": {}
      },
      "cell_type": "code",
      "source": [
        "def compute_loss(model, input_fn, targets):\n",
        "  \"\"\" Computes the loss (RMSE) for linear regression.\n",
        "  \n",
        "  Args:\n",
        "    model: the trained model to use for making the predictions.\n",
        "    input_fn: the input_fn to use to make the predictions.\n",
        "    targets: a list of the target values being predicted that must be the\n",
        "             same length as predictions.\n",
        "    \n",
        "  Returns:\n",
        "    The RMSE for the provided predictions and targets.\n",
        "  \"\"\"      \n",
        "  predictions = list(model.predict(input_fn=input_fn))\n",
        "  return math.sqrt(metrics.mean_squared_error(predictions, targets))"
      ],
      "execution_count": 0,
      "outputs": []
    },
    {
      "metadata": {
        "colab_type": "text",
        "id": "2BokkZ4g2gs4"
      },
      "cell_type": "markdown",
      "source": [
        "### Setting Up the Feature Columns and Input Function for TensorFlow\n",
        "As in the last lab we define `input_fn` to create a real-valued feature for each provided\n",
        "numerical column, and then define `train_input_fn` to use the training data, `eval_input_fn` to use the validation data, and `test_input_fn` to use the test data."
      ]
    },
    {
      "metadata": {
        "colab_type": "code",
        "id": "OwnMzAkn2gs6",
        "colab": {}
      },
      "cell_type": "code",
      "source": [
        "CATEGORICAL_COLUMNS = []\n",
        "NUMERICAL_COLUMNS = [\"latitude\", \"longitude\", \"housing_median_age\", \n",
        "                     \"total_rooms\", \"total_bedrooms\", \"population\",\n",
        "                     \"households\", \"median_income\"]\n",
        "def input_fn(dataframe):\n",
        "  \"\"\"Constructs a dictionary for the feature columns.\n",
        "\n",
        "  Args:\n",
        "    dataframe: The Pandas DataFrame to use for the input.\n",
        "  Returns:\n",
        "    The feature columns and the associated labels for the provided input.\n",
        "  \"\"\"\n",
        "  # Creates a dictionary mapping each numeric feature column name (k) to\n",
        "  # the values of that column stored in a constant Tensor.\n",
        "  numerical_cols = {k: tf.constant(dataframe[k].values)\n",
        "                     for k in NUMERICAL_COLUMNS}\n",
        "  # Creates a dictionary mapping each categorical feature column name (k)\n",
        "  # to the values of that column stored in a tf.SparseTensor.\n",
        "  categorical_cols = {k: tf.SparseTensor(\n",
        "      indices=[[i, 0] for i in range(dataframe[k].size)],\n",
        "      values=dataframe[k].values,\n",
        "      dense_shape=[dataframe[k].size, 1])\n",
        "                      for k in CATEGORICAL_COLUMNS}\n",
        "  # Merges the two dictionaries into one.\n",
        "  feature_cols = dict(numerical_cols.items() + categorical_cols.items())\n",
        "  # Converts the label column into a constant Tensor.\n",
        "  label = tf.constant(dataframe[LABEL].values)\n",
        "  # Returns the feature columns and the label.\n",
        "  return feature_cols, label\n",
        "\n",
        "def train_input_fn():\n",
        "  return input_fn(training_examples)\n",
        "\n",
        "def eval_input_fn():\n",
        "  return input_fn(validation_examples)\n",
        "\n",
        "def test_input_fn():\n",
        "  return input_fn(test_examples)"
      ],
      "execution_count": 0,
      "outputs": []
    },
    {
      "metadata": {
        "colab_type": "text",
        "id": "v5XS0Z_-GevD"
      },
      "cell_type": "markdown",
      "source": [
        "### Functions to help visualize our results\n",
        "\n",
        "We will use our functions from the last lab to generate a calibration plot and learning curve (with both training and validation losses)."
      ]
    },
    {
      "metadata": {
        "colab_type": "code",
        "id": "YIXTkIa6GB0s",
        "colab": {}
      },
      "cell_type": "code",
      "source": [
        "def make_calibration_plot(predictions, targets):\n",
        "  \"\"\" Creates a calibration plot.\n",
        "  \n",
        "  Args:\n",
        "    predictions: a list of values predicted by the model being visualized\n",
        "    targets: a list of the target values being predicted that must be the\n",
        "             same length as predictions.\n",
        "  \"\"\"  \n",
        "  calibration_data = pd.DataFrame()\n",
        "  calibration_data[\"predictions\"] = pd.Series(predictions)\n",
        "  calibration_data[\"targets\"] = pd.Series(targets)\n",
        "  calibration_data.describe()\n",
        "  min_val = calibration_data[\"predictions\"].min()\n",
        "  max_val = calibration_data[\"predictions\"].max()\n",
        "  plt.ylabel(\"target\")\n",
        "  plt.xlabel(\"prediction\")\n",
        "  plt.scatter(predictions, targets, color='black')\n",
        "  plt.plot([min_val, max_val], [min_val, max_val])\n",
        "  \n",
        "def plot_learning_curve(training_losses, validation_losses):\n",
        "  \"\"\" Plot the learning curve.\n",
        "  \n",
        "  Args:\n",
        "    training_loses: a list of training losses to plot.\n",
        "    validation_losses: a list of validation losses to plot.\n",
        "  \"\"\"        \n",
        "  plt.ylabel('Loss')\n",
        "  plt.xlabel('Training Steps')\n",
        "  plt.plot(training_losses, label=\"training\")\n",
        "  plt.plot(validation_losses, label=\"validation\")\n",
        "  plt.legend(loc=1)"
      ],
      "execution_count": 0,
      "outputs": []
    },
    {
      "metadata": {
        "colab_type": "text",
        "id": "MD--C-wVGEEg"
      },
      "cell_type": "markdown",
      "source": [
        "### Defining the features, linear regression model, and function to train the model\n",
        "\n",
        "These functions are just like the last lab except now we include all of the available numerical features."
      ]
    },
    {
      "metadata": {
        "colab_type": "code",
        "id": "uq6e_T_1F94U",
        "colab": {}
      },
      "cell_type": "code",
      "source": [
        "NUMERICAL_FEATURES = [\"latitude\", \"longitude\", \"housing_median_age\", \n",
        "                     \"total_rooms\", \"total_bedrooms\", \"population\",\n",
        "                     \"households\"]\n",
        "LABEL = \"median_income\"\n",
        "\n",
        "def construct_feature_columns():\n",
        "  \"\"\"Construct TensorFlow Feature Columns for features.\n",
        "  \n",
        "  Returns:\n",
        "    A set of feature columns.\n",
        "  \"\"\"\n",
        "  feature_set = set([tf.contrib.layers.real_valued_column(feature) \n",
        "                     for feature in NUMERICAL_FEATURES])\n",
        "  return feature_set\n",
        "\n",
        "def define_linear_regression_model(learning_rate):\n",
        "  \"\"\" Defines a linear regression model of one feature to predict the target.\n",
        "  \n",
        "  Args:\n",
        "    learning_rate: A `float`, the learning rate.\n",
        "    \n",
        "  Returns:\n",
        "    A linear regressor created with the given parameters.\n",
        "  \"\"\"\n",
        "  linear_regressor = tf.contrib.learn.LinearRegressor(\n",
        "    feature_columns=construct_feature_columns(),\n",
        "    optimizer=tf.train.GradientDescentOptimizer(learning_rate=learning_rate),\n",
        "    gradient_clip_norm=5.0\n",
        "  )  \n",
        "  return linear_regressor\n",
        "\n",
        "def train_model(linear_regressor, steps):\n",
        "  \"\"\"Trains a linear regression model.\n",
        "  \n",
        "  Args:\n",
        "    linear_regressor: The regressor to train.\n",
        "    steps: A non-zero `int`, the total number of training steps.\n",
        "    \n",
        "  Returns:\n",
        "    The trained regressor.\n",
        "  \"\"\"\n",
        "  # In order to see how the model evolves as we train it, we divide the\n",
        "  # steps into periods and show the model after each period.\n",
        "  periods = 10\n",
        "  steps_per_period = steps / periods\n",
        "  \n",
        "  # Train the model, but do so inside a loop so that we can periodically assess\n",
        "  # loss metrics.  We store the training and validation losses so we can\n",
        "  # generate a learning curve.\n",
        "  print \"Training model...\"\n",
        "  training_losses = []\n",
        "  validation_losses = []\n",
        "\n",
        "  for period in range (0, periods):\n",
        "    # Call fit to train the regressor for steps_per_period steps.\n",
        "    linear_regressor.fit(input_fn=train_input_fn, steps=steps_per_period)\n",
        "    \n",
        "    # Compute the loss between the predictions and the correct labels, append\n",
        "    # the training and validation loss to the list of losses used to generate\n",
        "    # the learning curve after training is complete and print the current\n",
        "    # training loss.\n",
        "    training_loss = compute_loss(linear_regressor, train_input_fn,\n",
        "                                 training_examples[LABEL])\n",
        "    validation_loss = compute_loss(linear_regressor, eval_input_fn,\n",
        "                                   validation_examples[LABEL])\n",
        "    training_losses.append(training_loss) \n",
        "    validation_losses.append(validation_loss) \n",
        "    print \"  Training loss after period %02d : %0.3f\" % (period, training_loss)\n",
        "      \n",
        "  # Now that training is done print the final training and validation losses.    \n",
        "  print \"Final Training Loss (RMSE): %0.3f\" % training_loss\n",
        "  print \"Final Validation Loss (RMSE): %0.3f\" % validation_loss \n",
        "  \n",
        "  # Generate a figure with the learning curve on the left and a\n",
        "  # calibration plot on the right.\n",
        "  plt.figure(figsize=(10, 5))\n",
        "  plt.subplot(1, 2, 1)\n",
        "  plt.title(\"Learning Curve (RMSE vs time)\")\n",
        "  plot_learning_curve(training_losses, validation_losses)\n",
        "  \n",
        "  plt.subplot(1, 2, 2)\n",
        "  plt.tight_layout(pad=1.1, w_pad=3.0, h_pad=3.0) \n",
        "  plt.title(\"Calibration Plot on Validation Data\")\n",
        "  validation_predictions = np.array(list(linear_regressor.predict(\n",
        "      input_fn=eval_input_fn)))\n",
        "  make_calibration_plot(validation_predictions, validation_examples[LABEL])\n",
        "   \n",
        "  return linear_regressor"
      ],
      "execution_count": 0,
      "outputs": []
    },
    {
      "metadata": {
        "colab_type": "text",
        "id": "91yJ6WebbC57"
      },
      "cell_type": "markdown",
      "source": [
        "### Training a model with one feature.\n",
        "\n",
        "In the last lab, you trained a model to predict the `median_house_value` from a single feature. Before we explore what can be done by introducing additional features, let's just train a good model to use a single feature.  Feel free to change the below, but as is it should give a pretty good result (given the constraint of using a single feature)."
      ]
    },
    {
      "metadata": {
        "colab_type": "code",
        "id": "_QscSNCVctHb",
        "outputId": "251cedb6-310e-42b3-9ae3-fefae99108df",
        "colab": {
          "base_uri": "https://localhost:8080/",
          "height": 606
        }
      },
      "cell_type": "code",
      "source": [
        "NUMERICAL_FEATURES = [\"median_income\"]\n",
        "LABEL = \"median_house_value\"\n",
        "\n",
        "LEARNING_RATE = 0.01\n",
        "STEPS = 1750\n",
        "\n",
        "\n",
        "linear_regressor = define_linear_regression_model(learning_rate = LEARNING_RATE)\n",
        "linear_regressor = train_model(linear_regressor, steps=STEPS)"
      ],
      "execution_count": 0,
      "outputs": [
        {
          "output_type": "stream",
          "text": [
            "Training model...\n",
            "  Training loss after period 00 : 201.995\n",
            "  Training loss after period 01 : 167.722\n",
            "  Training loss after period 02 : 135.846\n",
            "  Training loss after period 03 : 108.500\n",
            "  Training loss after period 04 : 89.911\n",
            "  Training loss after period 05 : 85.096\n",
            "  Training loss after period 06 : 84.580\n",
            "  Training loss after period 07 : 84.231\n",
            "  Training loss after period 08 : 84.081\n",
            "  Training loss after period 09 : 84.041\n",
            "Final Training Loss (RMSE): 84.041\n",
            "Final Validation Loss (RMSE): 82.378\n"
          ],
          "name": "stdout"
        },
        {
          "output_type": "display_data",
          "data": {
            "image/png": "[encoded data removed]",
            "text/plain": [
              "<matplotlib.figure.Figure at 0x7f173114dc50>"
            ]
          },
          "metadata": {
            "tags": []
          }
        }
      ]
    },
    {
      "metadata": {
        "colab_type": "text",
        "id": "ftNnIpjRG3cb"
      },
      "cell_type": "markdown",
      "source": [
        "Once you've adjusted the hyperparameters (if you'd like to see if you can reduce the validation loss), let's check the loss on the test data."
      ]
    },
    {
      "metadata": {
        "colab_type": "code",
        "id": "FMSp8-FqG4ao",
        "outputId": "6419c88e-f989-4aeb-849b-c9765fa2a089",
        "colab": {
          "base_uri": "https://localhost:8080/",
          "height": 34
        }
      },
      "cell_type": "code",
      "source": [
        "print \"loss on test data is\", compute_loss(\n",
        "    linear_regressor, test_input_fn, test_examples[LABEL])"
      ],
      "execution_count": 0,
      "outputs": [
        {
          "output_type": "stream",
          "text": [
            "loss on test data is 83.773585811\n"
          ],
          "name": "stdout"
        }
      ]
    },
    {
      "metadata": {
        "colab_type": "text",
        "id": "OfzBmjBpigCi"
      },
      "cell_type": "markdown",
      "source": [
        "## Task 1: Introduce Synthetic Features (1 Point)\n",
        "Both the total_rooms and population features count totals for a given city block.\n",
        "But what if one city block were more densely populated than another? Then just using `total_rooms` and `population` directly might not be very useful.  Instead what we really want is the **quadratic feature** obtain by dividing `total_rooms` by the `population` to give the average number of rooms per person for that city block.\n",
        "\n",
        "We've got you started by creating a feature called rooms_per_person.  Create others, and use them along with whatever other features you think are useful to train a model."
      ]
    },
    {
      "metadata": {
        "colab_type": "code",
        "id": "9qP-NtBJO-BC",
        "outputId": "df3ca5f6-b1c3-42b7-b191-ee19d4e2e483",
        "colab": {
          "base_uri": "https://localhost:8080/",
          "height": 317
        }
      },
      "cell_type": "code",
      "source": [
        "def prepare_features(dataframe):\n",
        "  \"\"\"Prepares the features for provided dataset.\n",
        "\n",
        "  Args:\n",
        "    dataframe: A Pandas DataFrame expected to contain data from the\n",
        "      desired data set.\n",
        "  Returns:\n",
        "    A new DataFrame that contains the features to be used for the model.\n",
        "  \"\"\"\n",
        "  processed_features = dataframe.copy()\n",
        "  \n",
        "  # Modifying median_house_value to be in scale of $1000.  So a value of 14.0\n",
        "  # will correspond to $14,000.  This will make it a bit easier to work with.\n",
        "  processed_features[\"median_house_value\"] /= 1000.0\n",
        "  \n",
        "  # Add your synthetic features here. We've got you started by defining \n",
        "  # rooms_per_person\n",
        "  processed_features[\"rooms_per_person\"] = (\n",
        "    dataframe[\"total_rooms\"] / dataframe[\"population\"])\n",
        "\n",
        "  processed_features[\"rooms_per_household\"] = (\n",
        "      dataframe[\"total_rooms\"] / dataframe[\"households\"])\n",
        "  processed_features[\"bedrooms_per_household\"] = (\n",
        "      dataframe[\"total_bedrooms\"] / dataframe[\"households\"])\n",
        "  return processed_features\n",
        "\n",
        "# Generate the training, validation and test examples\n",
        "training_examples = prepare_features(california_housing_dataframe.head(14000))\n",
        "validation_examples = prepare_features(california_housing_dataframe.tail(3000))\n",
        "test_examples = prepare_features(california_housing_test_data)\n",
        "\n",
        "validation_examples.describe()"
      ],
      "execution_count": 0,
      "outputs": [
        {
          "output_type": "execute_result",
          "data": {
            "text/html": [
              "<div>\n",
              "<style scoped>\n",
              "    .dataframe tbody tr th:only-of-type {\n",
              "        vertical-align: middle;\n",
              "    }\n",
              "\n",
              "    .dataframe tbody tr th {\n",
              "        vertical-align: top;\n",
              "    }\n",
              "\n",
              "    .dataframe thead th {\n",
              "        text-align: right;\n",
              "    }\n",
              "</style>\n",
              "<table border=\"1\" class=\"dataframe\">\n",
              "  <thead>\n",
              "    <tr style=\"text-align: right;\">\n",
              "      <th></th>\n",
              "      <th>longitude</th>\n",
              "      <th>latitude</th>\n",
              "      <th>housing_median_age</th>\n",
              "      <th>total_rooms</th>\n",
              "      <th>total_bedrooms</th>\n",
              "      <th>population</th>\n",
              "      <th>households</th>\n",
              "      <th>median_income</th>\n",
              "      <th>median_house_value</th>\n",
              "      <th>rooms_per_person</th>\n",
              "      <th>rooms_per_household</th>\n",
              "      <th>bedrooms_per_household</th>\n",
              "    </tr>\n",
              "  </thead>\n",
              "  <tbody>\n",
              "    <tr>\n",
              "      <th>count</th>\n",
              "      <td>3000.00</td>\n",
              "      <td>3000.00</td>\n",
              "      <td>3000.00</td>\n",
              "      <td>3000.00</td>\n",
              "      <td>3000.00</td>\n",
              "      <td>3000.00</td>\n",
              "      <td>3000.00</td>\n",
              "      <td>3000.00</td>\n",
              "      <td>3000.00</td>\n",
              "      <td>3000.00</td>\n",
              "      <td>3000.00</td>\n",
              "      <td>3000.00</td>\n",
              "    </tr>\n",
              "    <tr>\n",
              "      <th>mean</th>\n",
              "      <td>-119.59</td>\n",
              "      <td>35.66</td>\n",
              "      <td>28.85</td>\n",
              "      <td>2643.75</td>\n",
              "      <td>540.74</td>\n",
              "      <td>1434.38</td>\n",
              "      <td>504.20</td>\n",
              "      <td>3.89</td>\n",
              "      <td>207.54</td>\n",
              "      <td>1.97</td>\n",
              "      <td>5.40</td>\n",
              "      <td>1.09</td>\n",
              "    </tr>\n",
              "    <tr>\n",
              "      <th>std</th>\n",
              "      <td>2.01</td>\n",
              "      <td>2.15</td>\n",
              "      <td>12.67</td>\n",
              "      <td>2137.21</td>\n",
              "      <td>426.19</td>\n",
              "      <td>1179.61</td>\n",
              "      <td>390.56</td>\n",
              "      <td>1.86</td>\n",
              "      <td>114.69</td>\n",
              "      <td>0.90</td>\n",
              "      <td>1.92</td>\n",
              "      <td>0.33</td>\n",
              "    </tr>\n",
              "    <tr>\n",
              "      <th>min</th>\n",
              "      <td>-124.30</td>\n",
              "      <td>32.56</td>\n",
              "      <td>1.00</td>\n",
              "      <td>11.00</td>\n",
              "      <td>6.00</td>\n",
              "      <td>13.00</td>\n",
              "      <td>4.00</td>\n",
              "      <td>0.54</td>\n",
              "      <td>15.00</td>\n",
              "      <td>0.18</td>\n",
              "      <td>0.85</td>\n",
              "      <td>0.55</td>\n",
              "    </tr>\n",
              "    <tr>\n",
              "      <th>25%</th>\n",
              "      <td>-121.82</td>\n",
              "      <td>33.93</td>\n",
              "      <td>18.00</td>\n",
              "      <td>1477.00</td>\n",
              "      <td>301.75</td>\n",
              "      <td>791.00</td>\n",
              "      <td>286.75</td>\n",
              "      <td>2.58</td>\n",
              "      <td>120.77</td>\n",
              "      <td>1.54</td>\n",
              "      <td>4.49</td>\n",
              "      <td>1.00</td>\n",
              "    </tr>\n",
              "    <tr>\n",
              "      <th>50%</th>\n",
              "      <td>-118.53</td>\n",
              "      <td>34.27</td>\n",
              "      <td>29.00</td>\n",
              "      <td>2119.50</td>\n",
              "      <td>431.00</td>\n",
              "      <td>1168.00</td>\n",
              "      <td>406.00</td>\n",
              "      <td>3.59</td>\n",
              "      <td>181.65</td>\n",
              "      <td>1.96</td>\n",
              "      <td>5.26</td>\n",
              "      <td>1.05</td>\n",
              "    </tr>\n",
              "    <tr>\n",
              "      <th>75%</th>\n",
              "      <td>-118.01</td>\n",
              "      <td>37.71</td>\n",
              "      <td>37.00</td>\n",
              "      <td>3150.00</td>\n",
              "      <td>651.25</td>\n",
              "      <td>1746.00</td>\n",
              "      <td>609.00</td>\n",
              "      <td>4.78</td>\n",
              "      <td>265.18</td>\n",
              "      <td>2.31</td>\n",
              "      <td>6.06</td>\n",
              "      <td>1.10</td>\n",
              "    </tr>\n",
              "    <tr>\n",
              "      <th>max</th>\n",
              "      <td>-114.57</td>\n",
              "      <td>41.95</td>\n",
              "      <td>52.00</td>\n",
              "      <td>32627.00</td>\n",
              "      <td>6445.00</td>\n",
              "      <td>28566.00</td>\n",
              "      <td>6082.00</td>\n",
              "      <td>15.00</td>\n",
              "      <td>500.00</td>\n",
              "      <td>22.58</td>\n",
              "      <td>52.69</td>\n",
              "      <td>9.70</td>\n",
              "    </tr>\n",
              "  </tbody>\n",
              "</table>\n",
              "</div>"
            ],
            "text/plain": [
              "       longitude  latitude  housing_median_age  total_rooms  total_bedrooms  \\\n",
              "count    3000.00   3000.00             3000.00      3000.00         3000.00   \n",
              "mean     -119.59     35.66               28.85      2643.75          540.74   \n",
              "std         2.01      2.15               12.67      2137.21          426.19   \n",
              "min      -124.30     32.56                1.00        11.00            6.00   \n",
              "25%      -121.82     33.93               18.00      1477.00          301.75   \n",
              "50%      -118.53     34.27               29.00      2119.50          431.00   \n",
              "75%      -118.01     37.71               37.00      3150.00          651.25   \n",
              "max      -114.57     41.95               52.00     32627.00         6445.00   \n",
              "\n",
              "       population  households  median_income  median_house_value  \\\n",
              "count     3000.00     3000.00        3000.00             3000.00   \n",
              "mean      1434.38      504.20           3.89              207.54   \n",
              "std       1179.61      390.56           1.86              114.69   \n",
              "min         13.00        4.00           0.54               15.00   \n",
              "25%        791.00      286.75           2.58              120.77   \n",
              "50%       1168.00      406.00           3.59              181.65   \n",
              "75%       1746.00      609.00           4.78              265.18   \n",
              "max      28566.00     6082.00          15.00              500.00   \n",
              "\n",
              "       rooms_per_person  rooms_per_household  bedrooms_per_household  \n",
              "count           3000.00              3000.00                 3000.00  \n",
              "mean               1.97                 5.40                    1.09  \n",
              "std                0.90                 1.92                    0.33  \n",
              "min                0.18                 0.85                    0.55  \n",
              "25%                1.54                 4.49                    1.00  \n",
              "50%                1.96                 5.26                    1.05  \n",
              "75%                2.31                 6.06                    1.10  \n",
              "max               22.58                52.69                    9.70  "
            ]
          },
          "metadata": {
            "tags": []
          },
          "execution_count": 15
        }
      ]
    },
    {
      "metadata": {
        "colab_type": "text",
        "id": "FpgR7431USCM"
      },
      "cell_type": "markdown",
      "source": [
        "Since we added new features, we need to add them to `NUMERICAL_COLUMNS` so that they are included in the dictionary created by `input_fn`."
      ]
    },
    {
      "metadata": {
        "colab_type": "code",
        "id": "vvDwrKQeURtz",
        "colab": {}
      },
      "cell_type": "code",
      "source": [
        "# Add any other synthetic features you create to this list.\n",
        "NUMERICAL_COLUMNS = [\"latitude\", \"longitude\", \"housing_median_age\", \n",
        "                     \"total_rooms\", \"total_bedrooms\", \"population\",\n",
        "                     \"households\", \"median_income\", \"rooms_per_person\",\n",
        "                    \"rooms_per_household\", \"bedrooms_per_household\"]\n"
      ],
      "execution_count": 0,
      "outputs": []
    },
    {
      "metadata": {
        "colab_type": "text",
        "id": "9WDsNKEgP-8e"
      },
      "cell_type": "markdown",
      "source": [
        "##Task 2 -- Add a Clip Feature Transformation (1 point)\n",
        "\n",
        "Recall that there are two characteristics we'd like of numerical features when used together to train a linear model:\n",
        "* The range of the features is roughly the same.\n",
        "* To the extent possible the histogram of the features kind of resembles a bell curve.  Sometimes the data will fit this very well and other times it won't.\n",
        "\n",
        "Below are the methods to perform linear scaling and log scaling.  For this data set it will also be useful to have a feature transformation to cap the features to within a minimum and/or maximum value.  Most likely you will want to then linearly scale or log scale the feature after clipping it."
      ]
    },
    {
      "metadata": {
        "colab_type": "code",
        "id": "GaIy2hyRKUgE",
        "colab": {}
      },
      "cell_type": "code",
      "source": [
        "# Linearly rescales to the range [0, 1]\n",
        "def linear_scale(series):\n",
        "  min_val = series.min()\n",
        "  max_val = series.max()\n",
        "  scale = 1.0 * (max_val - min_val)\n",
        "  return series.apply(lambda x:((x - min_val) / scale))\n",
        "\n",
        "# Perform log scaling\n",
        "def log_scale(series):\n",
        "  return series.apply(lambda x:math.log(x+1.0))\n",
        "\n",
        "# Clip all features to given min and max\n",
        "def clip(series, clip_to_min, clip_to_max):\n",
        "  # You need to modify this to actually do the clipping versus just returning\n",
        "  # the series unchanged.\n",
        "  return series.apply(lambda x: np.clip(x, clip_to_min, clip_to_max))"
      ],
      "execution_count": 0,
      "outputs": []
    },
    {
      "metadata": {
        "colab_type": "text",
        "id": "aFIYIXKVTQYB"
      },
      "cell_type": "markdown",
      "source": [
        "You can use this function to draw a histogram to help decide what kind of scaling is best to use for `households` and also to confirm your implementation of `clip` works as you intended."
      ]
    },
    {
      "metadata": {
        "colab_type": "code",
        "id": "LoxE90BfKnTQ",
        "outputId": "c20ac825-2733-450f-d511-cf5bb1499e0a",
        "colab": {
          "base_uri": "https://localhost:8080/",
          "height": 300
        }
      },
      "cell_type": "code",
      "source": [
        "clip_min = -np.inf\n",
        "clip_max = np.inf\n",
        "\n",
        "def draw_histograms(dataframe, feature_name,\n",
        "                    clip_min = -np.inf, clip_max = np.inf):\n",
        "  plt.figure(figsize=(20, 4))\n",
        "  plt.subplot(1, 3, 1)\n",
        "  plt.title(feature_name)\n",
        "  histogram = dataframe[feature_name].hist(bins=50)\n",
        "\n",
        "  plt.subplot(1, 3, 2)\n",
        "  plt.title(\"linear_scaling\")\n",
        "  scaled_features = pd.DataFrame()\n",
        "  scaled_features[feature_name] = linear_scale(\n",
        "      clip(dataframe[feature_name], clip_min, clip_max))\n",
        "  histogram = scaled_features[feature_name].hist(bins=50)\n",
        "  \n",
        "  plt.subplot(1, 3, 3)\n",
        "  plt.title(\"log scaling\")\n",
        "  log_normalized_features = pd.DataFrame()\n",
        "  log_normalized_features[feature_name] = log_scale(dataframe[feature_name])\n",
        "  histogram = log_normalized_features[feature_name].hist(bins=50)\n",
        "  \n",
        "draw_histograms(training_examples, 'households')"
      ],
      "execution_count": 0,
      "outputs": [
        {
          "output_type": "display_data",
          "data": {
            "image/png": "[encoded data removed]",
            "text/plain": [
              "<matplotlib.figure.Figure at 0x7f1710c2a1d0>"
            ]
          },
          "metadata": {
            "tags": []
          }
        }
      ]
    },
    {
      "metadata": {
        "colab_type": "code",
        "id": "Ka910yRQLY9J",
        "outputId": "b9fc4b91-869c-4625-b158-e5d51cae3a2d",
        "colab": {
          "base_uri": "https://localhost:8080/",
          "height": 317
        }
      },
      "cell_type": "code",
      "source": [
        "print \"Now let's clip between 0 and 1000 before scaling.\"\n",
        "\n",
        "draw_histograms(training_examples, 'households', 0, 1000)"
      ],
      "execution_count": 0,
      "outputs": [
        {
          "output_type": "stream",
          "text": [
            "Now let's clip between 0 and 1000 before scaling.\n"
          ],
          "name": "stdout"
        },
        {
          "output_type": "display_data",
          "data": {
            "image/png": "[encoded data removed]",
            "text/plain": [
              "<matplotlib.figure.Figure at 0x7f17111ae3d0>"
            ]
          },
          "metadata": {
            "tags": []
          }
        }
      ]
    },
    {
      "metadata": {
        "colab_type": "text",
        "id": "srotOZZ0MCMa"
      },
      "cell_type": "markdown",
      "source": [
        "The leftmost histogram is unchanged since that just shows the raw feature.  You should see a very visible change when you clip the feature before applying linear scaling. As you will often (but not always) find, for this particular feature log scaling worked well without the need to first clip the data.\n",
        "\n",
        "**Run the above code with features other than `households` to help decide what feature normalization to use for each feature.**  Feel free to duplicate the code box that calls `draw_histogram` if you'd like to show the histograms for multiple features."
      ]
    },
    {
      "metadata": {
        "colab_type": "text",
        "id": "NCLzj1XfqcMy"
      },
      "cell_type": "markdown",
      "source": [
        "## Task 3: Train the Best Model You Can (3 points)\n",
        "\n",
        "We expect you to take some time exploring the feature transformations and hyperparameters.\n",
        "\n",
        "Select any number of the provided features, create synthetic features you think will be informative, and modify the hyperparmaters to get a better model. You will want to edit preprocess_features to do some feature normalization like you saw in the [Using Multiple Numerical Features and Feature Scaling](https://colab.research.google.com/notebook#fileId=/v2/external/notebooks/intro_to_ml_semester_course/Lab_3__Using_Multiple_Numerical_Features_and_Feature_Scaling.ipynb). See how well you are able to do.\n",
        "\n",
        "**DO NOT APPLY ANY ADDITIONAL FEATURE TRANSFORMATION TO THE TARGET `median_price` since that would change the scale for RMSE.**\n",
        "\n",
        "* Summarize the changes you made that were the most important.\n",
        "* Once you find a model, try training 20 times more steps.  Does overfitting occur if you do that?\n"
      ]
    },
    {
      "metadata": {
        "colab_type": "code",
        "id": "6dHsVfa4m2JH",
        "outputId": "30b0481e-fd5b-41ac-d6a1-ca428e6d17a1",
        "colab": {
          "base_uri": "https://localhost:8080/",
          "height": 317
        }
      },
      "cell_type": "code",
      "source": [
        "def prepare_features(dataframe):\n",
        "  \"\"\"Prepares the features for provided dataset.\n",
        "\n",
        "  Args:\n",
        "    dataframe: A Pandas DataFrame expected to contain data from the\n",
        "      desired data set.\n",
        "  Returns:\n",
        "    A new dataFrame that contains the features to be used for the model.\n",
        "  \"\"\"\n",
        "  processed_features = dataframe.copy()\n",
        "  \n",
        "  # Modifying median_house_value to be in scale of $1000.  So a value of 14.0\n",
        "  # will correspond to $14,000.  This will make it a bit easier to work with.\n",
        "  processed_features[\"median_house_value\"] /= 1000.0\n",
        "  \n",
        "  # Perform your feature scaling here\n",
        "  \n",
        "  \n",
        "  # Add your synthetic features here. We've got you started by defining \n",
        "  # rooms_per_person\n",
        "  processed_features[\"rooms_per_person\"] = (\n",
        "    dataframe[\"total_rooms\"] / dataframe[\"population\"])\n",
        "\n",
        "  processed_features[\"rooms_per_household\"] = (\n",
        "      dataframe[\"total_rooms\"] / dataframe[\"households\"])\n",
        "  processed_features[\"bedrooms_per_household\"] = (\n",
        "      dataframe[\"total_bedrooms\"] / dataframe[\"households\"])\n",
        "  return processed_features\n",
        "\n",
        "# Generate the training, validation and test examples\n",
        "training_examples = prepare_features(california_housing_dataframe.head(14000))\n",
        "validation_examples = prepare_features(california_housing_dataframe.tail(3000))\n",
        "test_examples = prepare_features(california_housing_test_data)\n",
        "\n",
        "training_examples.describe()"
      ],
      "execution_count": 0,
      "outputs": [
        {
          "output_type": "execute_result",
          "data": {
            "text/html": [
              "<div>\n",
              "<style scoped>\n",
              "    .dataframe tbody tr th:only-of-type {\n",
              "        vertical-align: middle;\n",
              "    }\n",
              "\n",
              "    .dataframe tbody tr th {\n",
              "        vertical-align: top;\n",
              "    }\n",
              "\n",
              "    .dataframe thead th {\n",
              "        text-align: right;\n",
              "    }\n",
              "</style>\n",
              "<table border=\"1\" class=\"dataframe\">\n",
              "  <thead>\n",
              "    <tr style=\"text-align: right;\">\n",
              "      <th></th>\n",
              "      <th>longitude</th>\n",
              "      <th>latitude</th>\n",
              "      <th>housing_median_age</th>\n",
              "      <th>total_rooms</th>\n",
              "      <th>total_bedrooms</th>\n",
              "      <th>population</th>\n",
              "      <th>households</th>\n",
              "      <th>median_income</th>\n",
              "      <th>median_house_value</th>\n",
              "      <th>rooms_per_person</th>\n",
              "      <th>rooms_per_household</th>\n",
              "      <th>bedrooms_per_household</th>\n",
              "    </tr>\n",
              "  </thead>\n",
              "  <tbody>\n",
              "    <tr>\n",
              "      <th>count</th>\n",
              "      <td>14000.00</td>\n",
              "      <td>14000.00</td>\n",
              "      <td>14000.00</td>\n",
              "      <td>14000.00</td>\n",
              "      <td>14000.00</td>\n",
              "      <td>14000.00</td>\n",
              "      <td>14000.00</td>\n",
              "      <td>14000.00</td>\n",
              "      <td>14000.00</td>\n",
              "      <td>14000.00</td>\n",
              "      <td>14000.00</td>\n",
              "      <td>14000.00</td>\n",
              "    </tr>\n",
              "    <tr>\n",
              "      <th>mean</th>\n",
              "      <td>-119.56</td>\n",
              "      <td>35.62</td>\n",
              "      <td>28.53</td>\n",
              "      <td>2643.65</td>\n",
              "      <td>539.13</td>\n",
              "      <td>1428.54</td>\n",
              "      <td>500.58</td>\n",
              "      <td>3.88</td>\n",
              "      <td>207.25</td>\n",
              "      <td>1.98</td>\n",
              "      <td>5.45</td>\n",
              "      <td>1.10</td>\n",
              "    </tr>\n",
              "    <tr>\n",
              "      <th>std</th>\n",
              "      <td>2.01</td>\n",
              "      <td>2.14</td>\n",
              "      <td>12.57</td>\n",
              "      <td>2189.07</td>\n",
              "      <td>420.50</td>\n",
              "      <td>1140.97</td>\n",
              "      <td>383.23</td>\n",
              "      <td>1.92</td>\n",
              "      <td>116.26</td>\n",
              "      <td>1.22</td>\n",
              "      <td>2.65</td>\n",
              "      <td>0.52</td>\n",
              "    </tr>\n",
              "    <tr>\n",
              "      <th>min</th>\n",
              "      <td>-124.35</td>\n",
              "      <td>32.54</td>\n",
              "      <td>1.00</td>\n",
              "      <td>2.00</td>\n",
              "      <td>1.00</td>\n",
              "      <td>3.00</td>\n",
              "      <td>1.00</td>\n",
              "      <td>0.50</td>\n",
              "      <td>15.00</td>\n",
              "      <td>0.02</td>\n",
              "      <td>0.89</td>\n",
              "      <td>0.33</td>\n",
              "    </tr>\n",
              "    <tr>\n",
              "      <th>25%</th>\n",
              "      <td>-121.78</td>\n",
              "      <td>33.93</td>\n",
              "      <td>18.00</td>\n",
              "      <td>1457.00</td>\n",
              "      <td>295.75</td>\n",
              "      <td>789.00</td>\n",
              "      <td>280.00</td>\n",
              "      <td>2.56</td>\n",
              "      <td>119.20</td>\n",
              "      <td>1.52</td>\n",
              "      <td>4.44</td>\n",
              "      <td>1.01</td>\n",
              "    </tr>\n",
              "    <tr>\n",
              "      <th>50%</th>\n",
              "      <td>-118.48</td>\n",
              "      <td>34.24</td>\n",
              "      <td>29.00</td>\n",
              "      <td>2129.00</td>\n",
              "      <td>434.00</td>\n",
              "      <td>1166.50</td>\n",
              "      <td>409.50</td>\n",
              "      <td>3.54</td>\n",
              "      <td>179.90</td>\n",
              "      <td>1.94</td>\n",
              "      <td>5.23</td>\n",
              "      <td>1.05</td>\n",
              "    </tr>\n",
              "    <tr>\n",
              "      <th>75%</th>\n",
              "      <td>-118.00</td>\n",
              "      <td>37.72</td>\n",
              "      <td>37.00</td>\n",
              "      <td>3151.25</td>\n",
              "      <td>648.00</td>\n",
              "      <td>1718.00</td>\n",
              "      <td>603.00</td>\n",
              "      <td>4.76</td>\n",
              "      <td>264.90</td>\n",
              "      <td>2.30</td>\n",
              "      <td>6.06</td>\n",
              "      <td>1.10</td>\n",
              "    </tr>\n",
              "    <tr>\n",
              "      <th>max</th>\n",
              "      <td>-114.31</td>\n",
              "      <td>41.95</td>\n",
              "      <td>52.00</td>\n",
              "      <td>37937.00</td>\n",
              "      <td>5471.00</td>\n",
              "      <td>35682.00</td>\n",
              "      <td>5189.00</td>\n",
              "      <td>15.00</td>\n",
              "      <td>500.00</td>\n",
              "      <td>55.22</td>\n",
              "      <td>141.91</td>\n",
              "      <td>34.07</td>\n",
              "    </tr>\n",
              "  </tbody>\n",
              "</table>\n",
              "</div>"
            ],
            "text/plain": [
              "       longitude  latitude  housing_median_age  total_rooms  total_bedrooms  \\\n",
              "count   14000.00  14000.00            14000.00     14000.00        14000.00   \n",
              "mean     -119.56     35.62               28.53      2643.65          539.13   \n",
              "std         2.01      2.14               12.57      2189.07          420.50   \n",
              "min      -124.35     32.54                1.00         2.00            1.00   \n",
              "25%      -121.78     33.93               18.00      1457.00          295.75   \n",
              "50%      -118.48     34.24               29.00      2129.00          434.00   \n",
              "75%      -118.00     37.72               37.00      3151.25          648.00   \n",
              "max      -114.31     41.95               52.00     37937.00         5471.00   \n",
              "\n",
              "       population  households  median_income  median_house_value  \\\n",
              "count    14000.00    14000.00       14000.00            14000.00   \n",
              "mean      1428.54      500.58           3.88              207.25   \n",
              "std       1140.97      383.23           1.92              116.26   \n",
              "min          3.00        1.00           0.50               15.00   \n",
              "25%        789.00      280.00           2.56              119.20   \n",
              "50%       1166.50      409.50           3.54              179.90   \n",
              "75%       1718.00      603.00           4.76              264.90   \n",
              "max      35682.00     5189.00          15.00              500.00   \n",
              "\n",
              "       rooms_per_person  rooms_per_household  bedrooms_per_household  \n",
              "count          14000.00             14000.00                14000.00  \n",
              "mean               1.98                 5.45                    1.10  \n",
              "std                1.22                 2.65                    0.52  \n",
              "min                0.02                 0.89                    0.33  \n",
              "25%                1.52                 4.44                    1.01  \n",
              "50%                1.94                 5.23                    1.05  \n",
              "75%                2.30                 6.06                    1.10  \n",
              "max               55.22               141.91                   34.07  "
            ]
          },
          "metadata": {
            "tags": []
          },
          "execution_count": 20
        }
      ]
    },
    {
      "metadata": {
        "colab_type": "text",
        "id": "ITsEqEeNZFEW"
      },
      "cell_type": "markdown",
      "source": [
        "Here's the method to train the model.  You'l need to fill in the features you want to use."
      ]
    },
    {
      "metadata": {
        "colab_type": "code",
        "id": "8HMfGTXbZFgW",
        "outputId": "45bdc645-e638-4eec-a037-5e52ddfbba05",
        "colab": {
          "base_uri": "https://localhost:8080/",
          "height": 606
        }
      },
      "cell_type": "code",
      "source": [
        "# Fill in the features you want to use\n",
        "NUMERICAL_FEATURES = [\"median_income\", \"rooms_per_household\",\n",
        "                     \"bedrooms_per_household\", \"rooms_per_person\"]\n",
        "LABEL = \"median_house_value\"\n",
        "\n",
        "LEARNING_RATE = .05\n",
        "STEPS = 1500\n",
        "\n",
        "linear_regressor = define_linear_regression_model(learning_rate = LEARNING_RATE)\n",
        "linear_regressor = train_model(linear_regressor, steps=STEPS)"
      ],
      "execution_count": 0,
      "outputs": [
        {
          "output_type": "stream",
          "text": [
            "Training model...\n",
            "  Training loss after period 00 : 96.544\n",
            "  Training loss after period 01 : 82.328\n",
            "  Training loss after period 02 : 79.197\n",
            "  Training loss after period 03 : 78.589\n",
            "  Training loss after period 04 : 78.444\n",
            "  Training loss after period 05 : 78.390\n",
            "  Training loss after period 06 : 78.360\n",
            "  Training loss after period 07 : 78.339\n",
            "  Training loss after period 08 : 78.323\n",
            "  Training loss after period 09 : 78.311\n",
            "Final Training Loss (RMSE): 78.311\n",
            "Final Validation Loss (RMSE): 74.801\n"
          ],
          "name": "stdout"
        },
        {
          "output_type": "display_data",
          "data": {
            "image/png": "[encoded data removed]",
            "text/plain": [
              "<matplotlib.figure.Figure at 0x7f1730deb750>"
            ]
          },
          "metadata": {
            "tags": []
          }
        }
      ]
    },
    {
      "metadata": {
        "colab_type": "text",
        "id": "XUrmtr_CZ_ss"
      },
      "cell_type": "markdown",
      "source": [
        "You can look at the weights of the trained model."
      ]
    },
    {
      "metadata": {
        "colab_type": "code",
        "id": "UzNXgXjBZ-up",
        "outputId": "a0774f90-1c59-414e-9aea-721d57118696",
        "colab": {
          "base_uri": "https://localhost:8080/",
          "height": 102
        }
      },
      "cell_type": "code",
      "source": [
        "# Let's also look at the weights and bias\n",
        "for feature in NUMERICAL_FEATURES:\n",
        "  print \"weight for\", feature, \":\", linear_regressor.get_variable_value(\n",
        "    \"linear/\" + feature + \"/weight\")[0]\n",
        "print \"bias:\",  linear_regressor.get_variable_value(\"linear/bias_weight\")"
      ],
      "execution_count": 0,
      "outputs": [
        {
          "output_type": "stream",
          "text": [
            "weight for median_income : [49.78812]\n",
            "weight for rooms_per_household : [-31.815119]\n",
            "weight for bedrooms_per_household : [54.538708]\n",
            "weight for rooms_per_person : [43.895596]\n",
            "bias: [41.331253]\n"
          ],
          "name": "stdout"
        }
      ]
    },
    {
      "metadata": {
        "colab_type": "text",
        "id": "nzeH2UDRhI4U"
      },
      "cell_type": "markdown",
      "source": [
        "Check the loss on the test data after you are done selecting the learning rate and number of steps to run."
      ]
    },
    {
      "metadata": {
        "colab_type": "code",
        "id": "5CO5kC8suhrV",
        "outputId": "213f6ff6-3a40-420a-e429-654cc7d0279a",
        "colab": {
          "base_uri": "https://localhost:8080/",
          "height": 34
        }
      },
      "cell_type": "code",
      "source": [
        "print \"loss on test data is\", compute_loss(\n",
        "    linear_regressor, test_input_fn, test_examples[LABEL])"
      ],
      "execution_count": 0,
      "outputs": [
        {
          "output_type": "stream",
          "text": [
            "loss on test data is 76.4054014163\n"
          ],
          "name": "stdout"
        }
      ]
    },
    {
      "metadata": {
        "colab_type": "text",
        "id": "shyVGiUJY_k2"
      },
      "cell_type": "markdown",
      "source": [
        "Here's a code box for you to train your model with the same learning rate that worked best but to see what happens if you train it 20 times longer."
      ]
    },
    {
      "metadata": {
        "colab_type": "code",
        "id": "DnZbLqXkY-be",
        "outputId": "9e094cb8-513f-4861-9056-9624dc254f10",
        "colab": {
          "base_uri": "https://localhost:8080/",
          "height": 606
        }
      },
      "cell_type": "code",
      "source": [
        "# Fill in the features you want to use\n",
        "NUMERICAL_FEATURES = [\"median_income\", \"rooms_per_household\",\n",
        "                     \"bedrooms_per_household\", \"rooms_per_person\"]\n",
        "LABEL = \"median_house_value\"\n",
        "\n",
        "LEARNING_RATE = .05\n",
        "STEPS = 30000\n",
        "\n",
        "linear_regressor = define_linear_regression_model(learning_rate = LEARNING_RATE)\n",
        "linear_regressor = train_model(linear_regressor, steps=STEPS)"
      ],
      "execution_count": 0,
      "outputs": [
        {
          "output_type": "stream",
          "text": [
            "Training model...\n",
            "  Training loss after period 00 : 78.274\n",
            "  Training loss after period 01 : 78.271\n",
            "  Training loss after period 02 : 78.271\n",
            "  Training loss after period 03 : 78.271\n",
            "  Training loss after period 04 : 78.271\n",
            "  Training loss after period 05 : 78.271\n",
            "  Training loss after period 06 : 78.271\n",
            "  Training loss after period 07 : 78.271\n",
            "  Training loss after period 08 : 78.271\n",
            "  Training loss after period 09 : 78.271\n",
            "Final Training Loss (RMSE): 78.271\n",
            "Final Validation Loss (RMSE): 74.790\n"
          ],
          "name": "stdout"
        },
        {
          "output_type": "display_data",
          "data": {
            "image/png": "[encoded data removed]",
            "text/plain": [
              "<matplotlib.figure.Figure at 0x7f17110ec790>"
            ]
          },
          "metadata": {
            "tags": []
          }
        }
      ]
    },
    {
      "metadata": {
        "colab_type": "code",
        "id": "dPX42NvnTtz8",
        "colab": {}
      },
      "cell_type": "code",
      "source": [
        "\"\"\"\n",
        "Here's a place for you to answer these questions:\n",
        "\n",
        "\n",
        "A) Summarize the changes you made that were the most important.\n",
        "\n",
        "Adding the synthetic featues \"rooms_per_house_hold\" and \"bedrooms_per_household\"\n",
        "and increasing the steps to 1500 were the most important.\n",
        "Number of rooms and bedroom are things people look for when buying a house and\n",
        "also impact the cost of the home. Increasing the steps helped train the model \n",
        "becuase it wouldn't break 80 RMSE before.\n",
        "\n",
        "\n",
        "B) Once you find a model, try training 20 times more steps.  Does overfitting\n",
        "   occur if you do that?\n",
        "\n",
        "After training 20 more times there is graph loss. This appears to be overfit becuase the \n",
        "RMSE is higher than the training data's RMSE, especially when compared to before\n",
        "training 20 times more steps.\n",
        "\"\"\""
      ],
      "execution_count": 0,
      "outputs": []
    }
  ]
}